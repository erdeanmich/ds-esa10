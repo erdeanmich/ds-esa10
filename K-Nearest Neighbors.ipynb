{
 "cells": [
  {
   "cell_type": "markdown",
   "id": "7b4ccc02",
   "metadata": {},
   "source": [
    "# Own implementation of k nearest neighbors algorithm\n",
    "\n",
    "Implement KNN by hand for just 2 dimensions with normalization. \n",
    "Some substeps are needed for it.\n"
   ]
  },
  {
   "cell_type": "code",
   "execution_count": 37,
   "id": "06c85088",
   "metadata": {},
   "outputs": [],
   "source": [
    "import numpy as np \n",
    "import math \n",
    "from sklearn import preprocessing \n",
    "from collections import Counter"
   ]
  },
  {
   "cell_type": "markdown",
   "id": "572c52a6",
   "metadata": {},
   "source": [
    "## funct: You normalize your data in another table"
   ]
  },
  {
   "cell_type": "code",
   "execution_count": 38,
   "id": "df2de542",
   "metadata": {},
   "outputs": [],
   "source": [
    "def normalize(array):\n",
    "    min_max_scaler = preprocessing.MinMaxScaler()\n",
    "    return min_max_scaler.fit_transform(array)"
   ]
  },
  {
   "cell_type": "markdown",
   "id": "dc23e0d1",
   "metadata": {},
   "source": [
    "## funct: You code a simple euclid distance function"
   ]
  },
  {
   "cell_type": "code",
   "execution_count": 39,
   "id": "f896f5e7",
   "metadata": {},
   "outputs": [],
   "source": [
    "def distance(pointA, pointB):\n",
    "    x_delta = (pointA[0] - pointB[0]) ** 2\n",
    "    y_delta = (pointA[1] - pointB[1]) ** 2\n",
    "    return math.sqrt(x_delta + y_delta)"
   ]
  },
  {
   "cell_type": "markdown",
   "id": "fde9f5ff",
   "metadata": {},
   "source": [
    "## funct: You take a point and calculate the distance to all points"
   ]
  },
  {
   "cell_type": "code",
   "execution_count": 40,
   "id": "746a5c4b",
   "metadata": {},
   "outputs": [],
   "source": [
    "def calc_distances_to_sample(sample, points):\n",
    "    distances = []\n",
    "    for point in points:\n",
    "        distance_to_sample = distance(sample,point)\n",
    "        distances.append(distance_to_sample)\n",
    "    \n",
    "    return distances\n",
    "    "
   ]
  },
  {
   "cell_type": "markdown",
   "id": "5f9b4a98",
   "metadata": {},
   "source": [
    "## funct: You take the list from above and sort it"
   ]
  },
  {
   "cell_type": "code",
   "execution_count": 41,
   "id": "d76b1f5b",
   "metadata": {},
   "outputs": [],
   "source": [
    "def sort_by_distance(dataset, distance_column_index):\n",
    "    return dataset[np.argsort(dataset[:,distance_column_index])]"
   ]
  },
  {
   "cell_type": "markdown",
   "id": "69c83bc9",
   "metadata": {},
   "source": [
    "## funct: You take the *k* nearest and determine the mode of them "
   ]
  },
  {
   "cell_type": "code",
   "execution_count": 42,
   "id": "6be6edec",
   "metadata": {},
   "outputs": [],
   "source": [
    "def mode_of_k_nearest(k, dataset, class_column):\n",
    "    k_nearest = dataset[:k,class_column]\n",
    "    return Counter(k_nearest).most_common(1)[0][0]"
   ]
  },
  {
   "cell_type": "markdown",
   "id": "2ec28aef",
   "metadata": {},
   "source": [
    "# Let's test our algorithm with the films example"
   ]
  },
  {
   "cell_type": "code",
   "execution_count": 43,
   "id": "aea89639",
   "metadata": {
    "scrolled": true
   },
   "outputs": [
    {
     "data": {
      "text/plain": [
       "array([[  3., 104.,   1.],\n",
       "       [  2., 100.,   1.],\n",
       "       [  1.,  81.,   1.],\n",
       "       [101.,  10.,   0.],\n",
       "       [ 99.,   5.,   0.],\n",
       "       [ 98.,   2.,   0.]])"
      ]
     },
     "execution_count": 43,
     "metadata": {},
     "output_type": "execute_result"
    }
   ],
   "source": [
    "data = np.genfromtxt(\"data/films.csv\", delimiter=',')\n",
    "data"
   ]
  },
  {
   "cell_type": "code",
   "execution_count": 44,
   "id": "c3ef9506",
   "metadata": {
    "scrolled": true
   },
   "outputs": [
    {
     "data": {
      "text/plain": [
       "array([[0.02      , 1.        , 1.        ],\n",
       "       [0.01      , 0.96078431, 1.        ],\n",
       "       [0.        , 0.7745098 , 1.        ],\n",
       "       [1.        , 0.07843137, 0.        ],\n",
       "       [0.98      , 0.02941176, 0.        ],\n",
       "       [0.97      , 0.        , 0.        ]])"
      ]
     },
     "execution_count": 44,
     "metadata": {},
     "output_type": "execute_result"
    }
   ],
   "source": [
    "normalized_values = normalize(data[:,0:2])\n",
    "data[:,0:2] = normalized_values\n",
    "data"
   ]
  },
  {
   "cell_type": "code",
   "execution_count": 45,
   "id": "fa7bf2c7",
   "metadata": {},
   "outputs": [
    {
     "data": {
      "text/plain": [
       "[90.79801980219612,\n",
       " 90.8384391655147,\n",
       " 91.02300863369925,\n",
       " 91.51441692116809,\n",
       " 91.5662991902853,\n",
       " 91.5970572671415]"
      ]
     },
     "execution_count": 45,
     "metadata": {},
     "output_type": "execute_result"
    }
   ],
   "source": [
    "sample = [18,90]\n",
    "distances = calc_distances_to_sample(sample, data)\n",
    "distances"
   ]
  },
  {
   "cell_type": "code",
   "execution_count": 46,
   "id": "3b9a2b51",
   "metadata": {},
   "outputs": [
    {
     "data": {
      "text/plain": [
       "array([[2.00000000e-02, 1.00000000e+00, 1.00000000e+00, 9.07980198e+01],\n",
       "       [1.00000000e-02, 9.60784314e-01, 1.00000000e+00, 9.08384392e+01],\n",
       "       [0.00000000e+00, 7.74509804e-01, 1.00000000e+00, 9.10230086e+01],\n",
       "       [1.00000000e+00, 7.84313725e-02, 0.00000000e+00, 9.15144169e+01],\n",
       "       [9.80000000e-01, 2.94117647e-02, 0.00000000e+00, 9.15662992e+01],\n",
       "       [9.70000000e-01, 0.00000000e+00, 0.00000000e+00, 9.15970573e+01]])"
      ]
     },
     "execution_count": 46,
     "metadata": {},
     "output_type": "execute_result"
    }
   ],
   "source": [
    "data = np.insert(data, 3, distances, axis = 1)\n",
    "data"
   ]
  },
  {
   "cell_type": "code",
   "execution_count": 47,
   "id": "728d0cbc",
   "metadata": {
    "scrolled": true
   },
   "outputs": [
    {
     "data": {
      "text/plain": [
       "array([[2.00000000e-02, 1.00000000e+00, 1.00000000e+00, 9.07980198e+01],\n",
       "       [1.00000000e-02, 9.60784314e-01, 1.00000000e+00, 9.08384392e+01],\n",
       "       [0.00000000e+00, 7.74509804e-01, 1.00000000e+00, 9.10230086e+01],\n",
       "       [1.00000000e+00, 7.84313725e-02, 0.00000000e+00, 9.15144169e+01],\n",
       "       [9.80000000e-01, 2.94117647e-02, 0.00000000e+00, 9.15662992e+01],\n",
       "       [9.70000000e-01, 0.00000000e+00, 0.00000000e+00, 9.15970573e+01]])"
      ]
     },
     "execution_count": 47,
     "metadata": {},
     "output_type": "execute_result"
    }
   ],
   "source": [
    "data = sort_by_distance(data,3)\n",
    "data"
   ]
  },
  {
   "cell_type": "code",
   "execution_count": 48,
   "id": "bac5acab",
   "metadata": {},
   "outputs": [
    {
     "data": {
      "text/plain": [
       "1.0"
      ]
     },
     "execution_count": 48,
     "metadata": {},
     "output_type": "execute_result"
    }
   ],
   "source": [
    "mode_of_k_nearest(3,data,2)"
   ]
  },
  {
   "cell_type": "markdown",
   "id": "68c485ec",
   "metadata": {},
   "source": [
    "*This is the our predicted class! :)*"
   ]
  }
 ],
 "metadata": {
  "kernelspec": {
   "display_name": "Python 3",
   "language": "python",
   "name": "python3"
  },
  "language_info": {
   "codemirror_mode": {
    "name": "ipython",
    "version": 3
   },
   "file_extension": ".py",
   "mimetype": "text/x-python",
   "name": "python",
   "nbconvert_exporter": "python",
   "pygments_lexer": "ipython3",
   "version": "3.8.0"
  }
 },
 "nbformat": 4,
 "nbformat_minor": 5
}